{
  "nbformat": 4,
  "nbformat_minor": 0,
  "metadata": {
    "colab": {
      "provenance": [],
      "authorship_tag": "ABX9TyM/cYWy9L0qyvV+IS1CAdQk",
      "include_colab_link": true
    },
    "kernelspec": {
      "name": "python3",
      "display_name": "Python 3"
    },
    "language_info": {
      "name": "python"
    }
  },
  "cells": [
    {
      "cell_type": "markdown",
      "metadata": {
        "id": "view-in-github",
        "colab_type": "text"
      },
      "source": [
        "<a href=\"https://colab.research.google.com/github/DasSagor/Smart-Vehicle-Classifier-Project/blob/main/Smart_Vehicle_Classifier.ipynb\" target=\"_parent\"><img src=\"https://colab.research.google.com/assets/colab-badge.svg\" alt=\"Open In Colab\"/></a>"
      ]
    },
    {
      "cell_type": "code",
      "execution_count": 8,
      "metadata": {
        "id": "9mSfFuCOVbj_"
      },
      "outputs": [],
      "source": [
        "## Base Class\n",
        "\n",
        "class Vehicle:\n",
        "    def __init__(self, vehicle_type, name, speed):\n",
        "        self._vehicle_type = vehicle_type #Protected attribute\n",
        "        self.__name = name  #Private attribute\n",
        "        self.__speed = speed  #Private attribute\n",
        "\n",
        "\n",
        "\n",
        "    def get_name(self):\n",
        "        return self.__name\n",
        "\n",
        "    def get_speed(self):\n",
        "        return self.__speed\n",
        "\n",
        "\n",
        "    def classify(self):\n",
        "        if self.__speed>100:\n",
        "            return 'High speed vehicle'\n",
        "        else:\n",
        "            return ' Normal vehicle'\n",
        "\n",
        "    def show_info(self):\n",
        "        print(f'Type: {self._vehicle_type}, Name : {self.__name}, Speed: {self.__speed}')\n"
      ]
    },
    {
      "cell_type": "code",
      "source": [
        "## Subclass : Car\n",
        "\n",
        "class Car(Vehicle):\n",
        "    def __init__(self, vehicle_type, name, speed):\n",
        "        super().__init__(vehicle_type, name, speed)\n",
        "        print(f'Car Added : {name}')\n",
        "\n",
        "    def show_info(self):\n",
        "        print(f'Type: Car, Name: {self.get_name()}, Speed : {self.get_speed()} km/h , Predicted : {self.classify()}')\n",
        "\n"
      ],
      "metadata": {
        "id": "CEWz41Vabwns"
      },
      "execution_count": 9,
      "outputs": []
    },
    {
      "cell_type": "code",
      "source": [
        "## Subclass : Bike\n",
        "\n",
        "class Bike(Vehicle):\n",
        "    def __init__(self, vehicle_type, name, speed):\n",
        "        super().__init__(vehicle_type, name, speed)\n",
        "        print(f'Bike Added: {name}')\n",
        "\n",
        "    def show_info(self):\n",
        "        print(f'Type: Bike, Name: {self.get_name()}, Speed : {self.get_speed()} km/h , Predicted : {self.classify()}')"
      ],
      "metadata": {
        "id": "TOoSpOttgi8Y"
      },
      "execution_count": 10,
      "outputs": []
    },
    {
      "cell_type": "code",
      "source": [
        "# Main Code\n",
        "\n",
        "vehicle = []\n",
        "\n",
        "n = int(input())\n",
        "\n",
        "for _ in range(n):\n",
        "    data = input().split()\n",
        "    vehicle_type, name, speed = data[0],data[1],int(data[2])\n",
        "\n",
        "    if vehicle_type == 'Car':\n",
        "        obj = Car(vehicle_type, name, speed)\n",
        "    elif vehicle_type == 'Bike':\n",
        "        obj = Bike(vehicle_type, name, speed)\n",
        "    else:\n",
        "        continue\n",
        "\n",
        "    vehicle.append(obj)\n",
        "\n",
        "\n",
        "for x in vehicle:\n",
        "    x.show_info()"
      ],
      "metadata": {
        "colab": {
          "base_uri": "https://localhost:8080/"
        },
        "id": "NU5cbUf7g9Cc",
        "outputId": "cac63d5c-209e-47e7-cb8e-e8c064f2d160"
      },
      "execution_count": 12,
      "outputs": [
        {
          "output_type": "stream",
          "name": "stdout",
          "text": [
            "2\n",
            "Car Toyota 2133\n",
            "Car Added : Toyota\n",
            "bike honda 80\n",
            "Type: Car, Name: Toyota, Speed : 2133 km/h , Predicted : High speed vehicle\n"
          ]
        }
      ]
    }
  ]
}